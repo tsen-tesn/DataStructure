{
 "cells": [
  {
   "cell_type": "markdown",
   "id": "75a8c79e",
   "metadata": {},
   "source": [
    "### Problem 2\n",
    "Python’s `random` module includes a function `choice` that returns a random element from a non-empty sequence. The `random` module includes a more basic function `randrange`, with parameterization similar to the built-in `range` function, that returns a random choice from the given range. Using only the `randrange` function, implement your own version of the `choice` function. Please run these functions 10, 100, 1000, and 10000 times respectively and provide a simple comparison on the results of these two versions of functions."
   ]
  },
  {
   "cell_type": "code",
   "execution_count": 3,
   "id": "2d5cf468",
   "metadata": {},
   "outputs": [
    {
     "name": "stdout",
     "output_type": "stream",
     "text": [
      "Requirement already satisfied: pandas in c:\\users\\user\\miniconda3\\lib\\site-packages (2.3.2)\n",
      "Requirement already satisfied: numpy>=1.26.0 in c:\\users\\user\\miniconda3\\lib\\site-packages (from pandas) (2.3.3)\n",
      "Requirement already satisfied: python-dateutil>=2.8.2 in c:\\users\\user\\appdata\\roaming\\python\\python312\\site-packages (from pandas) (2.9.0.post0)\n",
      "Requirement already satisfied: pytz>=2020.1 in c:\\users\\user\\miniconda3\\lib\\site-packages (from pandas) (2025.2)\n",
      "Requirement already satisfied: tzdata>=2022.7 in c:\\users\\user\\miniconda3\\lib\\site-packages (from pandas) (2025.2)\n",
      "Requirement already satisfied: six>=1.5 in c:\\users\\user\\appdata\\roaming\\python\\python312\\site-packages (from python-dateutil>=2.8.2->pandas) (1.17.0)\n"
     ]
    }
   ],
   "source": [
    "!pip install pandas"
   ]
  },
  {
   "cell_type": "code",
   "execution_count": 1,
   "id": "423b617a",
   "metadata": {},
   "outputs": [
    {
     "name": "stdout",
     "output_type": "stream",
     "text": [
      "Pandas version: 2.3.2\n"
     ]
    }
   ],
   "source": [
    "import pandas as pd\n",
    "\n",
    "print(\"Pandas version:\", pd.__version__)\n"
   ]
  },
  {
   "cell_type": "code",
   "execution_count": 18,
   "id": "444c5b00",
   "metadata": {},
   "outputs": [
    {
     "name": "stdout",
     "output_type": "stream",
     "text": [
      "\n",
      "==Case of 10 items==\n",
      "                My own choice\n",
      "The stat:  item | frequence | percentage\n",
      "----------------------------------------\n",
      "             13 |         3 |     30.00%\n",
      "             23 |         2 |     20.00%\n",
      "             33 |         1 |     10.00%\n",
      "             43 |         1 |     10.00%\n",
      "             53 |         3 |     30.00%\n",
      "\n",
      "             The random choice\n",
      "The stat:  item | frequence | percentage\n",
      "----------------------------------------\n",
      "             13 |         1 |     10.00%\n",
      "             23 |         3 |     30.00%\n",
      "             33 |         3 |     30.00%\n",
      "             43 |         2 |     20.00%\n",
      "             53 |         1 |     10.00%\n",
      "\n",
      "==Case of 100 items==\n",
      "                My own choice\n",
      "The stat:  item | frequence | percentage\n",
      "----------------------------------------\n",
      "             13 |        14 |     14.00%\n",
      "             23 |        20 |     20.00%\n",
      "             33 |        18 |     18.00%\n",
      "             43 |        15 |     15.00%\n",
      "             53 |        33 |     33.00%\n",
      "\n",
      "             The random choice\n",
      "The stat:  item | frequence | percentage\n",
      "----------------------------------------\n",
      "             13 |        25 |     25.00%\n",
      "             23 |        23 |     23.00%\n",
      "             33 |        18 |     18.00%\n",
      "             43 |        15 |     15.00%\n",
      "             53 |        19 |     19.00%\n",
      "\n",
      "==Case of 1000 items==\n",
      "                My own choice\n",
      "The stat:  item | frequence | percentage\n",
      "----------------------------------------\n",
      "             13 |       197 |     19.70%\n",
      "             23 |       186 |     18.60%\n",
      "             33 |       210 |     21.00%\n",
      "             43 |       209 |     20.90%\n",
      "             53 |       198 |     19.80%\n",
      "\n",
      "             The random choice\n",
      "The stat:  item | frequence | percentage\n",
      "----------------------------------------\n",
      "             13 |       173 |     17.30%\n",
      "             23 |       201 |     20.10%\n",
      "             33 |       197 |     19.70%\n",
      "             43 |       208 |     20.80%\n",
      "             53 |       221 |     22.10%\n",
      "\n",
      "==Case of 10000 items==\n",
      "                My own choice\n",
      "The stat:  item | frequence | percentage\n",
      "----------------------------------------\n",
      "             13 |      1964 |     19.64%\n",
      "             23 |      2015 |     20.15%\n",
      "             33 |      1975 |     19.75%\n",
      "             43 |      1985 |     19.85%\n",
      "             53 |      2061 |     20.61%\n",
      "\n",
      "             The random choice\n",
      "The stat:  item | frequence | percentage\n",
      "----------------------------------------\n",
      "             13 |      1957 |     19.57%\n",
      "             23 |      2023 |     20.23%\n",
      "             33 |      2029 |     20.29%\n",
      "             43 |      1989 |     19.89%\n",
      "             53 |      2002 |     20.02%\n"
     ]
    }
   ],
   "source": [
    "# Python’s random module includes a function choice that returns a random element from a non-empty sequence. \n",
    "# Use random.choice() to call it\n",
    "\n",
    "import random\n",
    "import pandas as pd\n",
    "\n",
    "# use the randrange to make choice\n",
    "def my_choice(data):\n",
    "    idx = random.randrange(len(data))\n",
    "    return data[idx]\n",
    "\n",
    "def format_ascii_table(df):\n",
    "\n",
    "    pct_str = df[\"percentage\"].map(lambda x: f\"{x:.2f}%\")\n",
    "\n",
    "\n",
    "    w_item = max(len(\"item\"), df[\"item\"].astype(str).map(len).max())\n",
    "    w_freq = max(len(\"frequence\"), df[\"frequence\"].astype(str).map(len).max())\n",
    "    w_pct  = max(len(\"percentage\"), pct_str.map(len).max())\n",
    "\n",
    "\n",
    "    header = f\"The stat:  {'item':>{w_item}} | {'frequence':>{w_freq}} | {'percentage':>{w_pct}}\"\n",
    "    line   = \"-\" * len(header)\n",
    "\n",
    "\n",
    "    rows = [\n",
    "        f\"           {str(i):>{w_item}} | {str(f):>{w_freq}} | {s:>{w_pct}}\"\n",
    "        for i, f, s in zip(df[\"item\"], df[\"frequence\"], pct_str)\n",
    "    ]\n",
    "    return \"\\n\".join([header, line, *rows])\n",
    "\n",
    "def get_stats(data, trials, func):\n",
    "    results = [func(data) for _ in range(trials)]\n",
    "    counts = pd.Series(results).value_counts().sort_index()\n",
    "\n",
    "    df = pd.DataFrame({\n",
    "        \"item\": counts.index,\n",
    "        \"frequence\": counts.values\n",
    "    })\n",
    "    df[\"percentage\"] = df[\"frequence\"] / trials * 100\n",
    "    return format_ascii_table(df)\n",
    "\n",
    "if __name__ == \"__main__\":\n",
    "    seq = [13, 23, 33, 43, 53]\n",
    "    for trials in [10, 100, 1000, 10000]:\n",
    "        print(f\"\\n==Case of {trials} items==\")\n",
    "\n",
    "        print(\"                My own choice\")\n",
    "        print(get_stats(seq, trials, my_choice))\n",
    "\n",
    "        print(\"\\n             The random choice\")\n",
    "        print(get_stats(seq, trials, random.choice))\n"
   ]
  }
 ],
 "metadata": {
  "kernelspec": {
   "display_name": "base",
   "language": "python",
   "name": "python3"
  },
  "language_info": {
   "codemirror_mode": {
    "name": "ipython",
    "version": 3
   },
   "file_extension": ".py",
   "mimetype": "text/x-python",
   "name": "python",
   "nbconvert_exporter": "python",
   "pygments_lexer": "ipython3",
   "version": "3.12.4"
  }
 },
 "nbformat": 4,
 "nbformat_minor": 5
}
