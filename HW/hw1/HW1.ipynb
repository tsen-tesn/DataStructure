{
 "cells": [
  {
   "cell_type": "markdown",
   "metadata": {
    "slideshow": {
     "slide_type": "slide"
    }
   },
   "source": [
    "# Homework 1 - Python Practice (Data Structures, Fall 2025)\n",
    "\n",
    "### Name:\n",
    "### Student ID Number:"
   ]
  },
  {
   "cell_type": "markdown",
   "metadata": {},
   "source": [
    "\n",
    "### Problem 1\n",
    "Write a short Python function `all_tuples()` that, given an unsorted $n$ integer array $A$ and an integer $S$, prints all distinct four-element tuples (quadruplets) from $A$ having sum $S$.\n",
    "\n",
    "For example,\n",
    "\n",
    "**`Input`**:\n",
    "```\n",
    "A = [12, 21, 8, 7, 2, 5, 16, 19, 25, 14, 10]\n",
    "target = 34\n",
    "```\n",
    "**`Output`**:\n",
    "```\n",
    "Below are the quadruplets with sum 34 \n",
    "(2, 5, 8, 19)\n",
    "(2, 8, 10, 14)\n",
    "(5, 7, 8, 14)\n",
    "(5, 7, 10, 12)\n",
    "```"
   ]
  },
  {
   "cell_type": "code",
   "execution_count": 1,
   "metadata": {
    "slideshow": {
     "slide_type": "fragment"
    }
   },
   "outputs": [
    {
     "name": "stdout",
     "output_type": "stream",
     "text": [
      "The input list is [2, 5, 7, 8, 10, 12, 14, 16, 19, 21, 25] and tuples summing to 34 are: [(2, 5, 8, 19), (2, 8, 10, 14), (5, 7, 8, 14), (5, 7, 10, 12)]\n",
      "The input list is [2, 5, 7, 8, 10, 12, 14, 16, 19, 21, 25] and tuples summing to 80 are: []\n",
      "The input list is [0, 1, 2, 3, 4, 5, 7, 9] and tuples summing to 20 are: [(0, 4, 7, 9), (1, 3, 7, 9), (2, 4, 5, 9)]\n"
     ]
    }
   ],
   "source": [
    "# Function to print all tupless present in a list with a given sum\n",
    "def all_tuples(A, target):\n",
    "    \n",
    "# Driver script\n",
    "if __name__ == '__main__':\n",
    "    \n",
    "    A = [12, 21, 8, 7, 2, 5, 16, 19, 25, 14, 10]\n",
    "    S = 34\n",
    "    tuples=all_tuples(A, S)\n",
    "    print(f\"The input list is {A} and tuples summing to {S} are: {tuples}\")\n",
    "\n",
    "    S = 80\n",
    "    tuples=all_tuples(A, S)\n",
    "    print(f\"The input list is {A} and tuples summing to {S} are: {tuples}\")\n",
    "    \n",
    "    A = [2, 7, 4, 0, 9, 5, 1, 3]\n",
    "    S = 20\n",
    "    tuples=all_tuples(A, S)\n",
    "    print(f\"The input list is {A} and tuples summing to {S} are: {tuples}\")"
   ]
  },
  {
   "cell_type": "markdown",
   "metadata": {},
   "source": [
    "### Problem 2\n",
    "Python’s `random` module includes a function `choice` that returns a random element from a non-empty sequence. The `random` module includes a more basic function `randrange`, with parameterization similar to the built-in `range` function, that returns a random choice from the given range. Using only the `randrange` function, implement your own version of the `choice` function. Please run these functions 10, 100, 1000, and 10000 times respectively and provide a simple comparison on the results of these two versions of functions."
   ]
  },
  {
   "cell_type": "code",
   "execution_count": 2,
   "metadata": {},
   "outputs": [
    {
     "name": "stdout",
     "output_type": "stream",
     "text": [
      "==Case of 10 items==\n",
      "                 My own choice\n",
      "The stat:  item |  frequence | percentage\n",
      "------------------------------------------\n",
      "             13 |          3 |     30.00%\n",
      "             23 |          1 |     10.00%\n",
      "             33 |          1 |     10.00%\n",
      "             43 |          1 |     10.00%\n",
      "             53 |          4 |     40.00%\n",
      "             The random choice\n",
      "The stat:  item |  frequence | percentage\n",
      "------------------------------------------\n",
      "             13 |          2 |     20.00%\n",
      "             23 |          1 |     10.00%\n",
      "             33 |          4 |     40.00%\n",
      "             43 |          1 |     10.00%\n",
      "             53 |          2 |     20.00%\n",
      "\n",
      "\n",
      "==Case of 100 items==\n",
      "                 My own choice\n",
      "The stat:  item |  frequence | percentage\n",
      "------------------------------------------\n",
      "             13 |         20 |     20.00%\n",
      "             23 |         20 |     20.00%\n",
      "             33 |         24 |     24.00%\n",
      "             43 |         19 |     19.00%\n",
      "             53 |         17 |     17.00%\n",
      "             The random choice\n",
      "The stat:  item |  frequence | percentage\n",
      "------------------------------------------\n",
      "             13 |         26 |     26.00%\n",
      "             23 |         15 |     15.00%\n",
      "             33 |         19 |     19.00%\n",
      "             43 |         19 |     19.00%\n",
      "             53 |         21 |     21.00%\n",
      "\n",
      "\n",
      "==Case of 1000 items==\n",
      "                 My own choice\n",
      "The stat:  item |  frequence | percentage\n",
      "------------------------------------------\n",
      "             13 |        204 |     20.40%\n",
      "             23 |        208 |     20.80%\n",
      "             33 |        200 |     20.00%\n",
      "             43 |        215 |     21.50%\n",
      "             53 |        173 |     17.30%\n",
      "             The random choice\n",
      "The stat:  item |  frequence | percentage\n",
      "------------------------------------------\n",
      "             13 |        194 |     19.40%\n",
      "             23 |        213 |     21.30%\n",
      "             33 |        189 |     18.90%\n",
      "             43 |        202 |     20.20%\n",
      "             53 |        202 |     20.20%\n",
      "\n",
      "\n",
      "==Case of 10000 items==\n",
      "                 My own choice\n",
      "The stat:  item |  frequence | percentage\n",
      "------------------------------------------\n",
      "             13 |       2054 |     20.54%\n",
      "             23 |       1951 |     19.51%\n",
      "             33 |       1960 |     19.60%\n",
      "             43 |       2014 |     20.14%\n",
      "             53 |       2021 |     20.21%\n",
      "             The random choice\n",
      "The stat:  item |  frequence | percentage\n",
      "------------------------------------------\n",
      "             13 |       1939 |     19.39%\n",
      "             23 |       2000 |     20.00%\n",
      "             33 |       1993 |     19.93%\n",
      "             43 |       2038 |     20.38%\n",
      "             53 |       2030 |     20.30%\n",
      "\n",
      "\n"
     ]
    }
   ],
   "source": [
    "# Python’s random module includes a function choice that returns a random element from a non-empty sequence. \n",
    "# Use random.choice() to call it\n",
    "\n",
    "import random\n",
    "import pandas as pd\n",
    "\n",
    "#Return a random element from a non-empty sequence using only randrange function.\n",
    "def choice(data):\n",
    "\n",
    "#\n",
    "# Driver script\n",
    "# One need to have the code for the output below\n",
    "#\n",
    "if __name__ == '__main__':\n",
    "    # Example usage\n",
    "    seq = [13, 23, 33, 43, 53]\n",
    "    ..."
   ]
  },
  {
   "cell_type": "markdown",
   "metadata": {},
   "source": [
    "### Problem 3\n",
    "The **birthday paradox** says that the probability that two people in a room will have the same birthday is more than half, provided $n$, the number of people in the room, is more than 23. This property is not really a paradox, but many people find it surprising. Design a Python program that can test this paradox by a series of experiments on randomly generated birthdays, which test this paradox for $n = 5, 10, 15, 20, \\ldots, 100$. We consider two directions for the test."
   ]
  },
  {
   "cell_type": "markdown",
   "metadata": {},
   "source": [
    "#### Problem 3-1 (Simulation Experiments)\n",
    "One way is to do the experiments by simulation. For each value of $n$, one do the experiments many times, say 1000 times. In each experiment, one can pick one day `bd` in a year first as a birthday to compare with the other $n-1$ birthdays. All the birthdays are selected randomly, so please use the function `choice(data)` you implement in Problem 2 for selecting the birthdays. If the selected day `bd` is the same with a day in the remaining randomly generated birthdays, then the trial is successful (true); otherwise, it fails (being false). We count the number of successful trials and can get a percentage that two people in a room have the same birthday for $n$ people. Pleasse provide a Python script that performs the simulation experiments."
   ]
  },
  {
   "cell_type": "code",
   "execution_count": 3,
   "metadata": {},
   "outputs": [
    {
     "name": "stdout",
     "output_type": "stream",
     "text": [
      "    n | Probability of Shared Birthday\n",
      "----------------------------------------\n",
      "    5 |                         0.0281\n",
      "   10 |                         0.1174\n",
      "   15 |                         0.2556\n",
      "   20 |                         0.4156\n",
      "   25 |                         0.5687\n",
      "   30 |                         0.7087\n",
      "   35 |                         0.8211\n",
      "   40 |                         0.8942\n",
      "   45 |                         0.9390\n",
      "   50 |                         0.9677\n",
      "   55 |                         0.9870\n",
      "   60 |                         0.9942\n",
      "   65 |                         0.9973\n",
      "   70 |                         0.9995\n",
      "   75 |                         0.9997\n",
      "   80 |                         0.9997\n",
      "   85 |                         1.0000\n",
      "   90 |                         1.0000\n",
      "   95 |                         1.0000\n",
      "  100 |                         1.0000\n"
     ]
    }
   ],
   "source": [
    "# Code for birthday paradox with simulation experiments\n",
    "import random\n",
    "\n",
    "# Return True if at least two people out of n share the same birthday.\n",
    "def duplicate_birthdays(n):\n",
    "\n",
    "\n",
    "# Run experiments for n = 5, 10, ..., 100 with 10000 trials respectively and print frequencies(probabilities).\n",
    "def birthday_paradox_experiment(trials=10000):\n",
    "    print(f\"{'n':>5} | {'Probability of Shared Birthday':>30}\")\n",
    "    print(\"-\" * 40)\n",
    "    \n",
    "    for n in range(5, 101, 5):\n",
    "        count_shared = sum(duplicate_birthdays(n) for _ in range(trials))\n",
    "        probability = count_shared / trials\n",
    "        print(f\"{n:>5} | {probability:>30.4f}\")\n",
    "\n",
    "# Run the simulation\n",
    "birthday_paradox_experiment()\n"
   ]
  },
  {
   "cell_type": "markdown",
   "metadata": {},
   "source": [
    "#### Problem 3-2 (Combinatorial Computation)\n",
    "The other way is to derive a formula using ***combinatorial computation*** for the probability that two people have the same birthday in a room having $n$ people. Please first derive the formula. Then, use this formula to have the script for the computation and list the results."
   ]
  },
  {
   "cell_type": "markdown",
   "metadata": {},
   "source": [
    "The derived formular for the case of $n$ people is: (For filling in this, we need Latex and please check https://www.overleaf.com/learn/latex/Aligning_equations_with_amsmath)\n",
    "$$\\begin{align}\n",
    "p &= \\cdots (?)\n",
    "\\end{align}\n",
    "$$"
   ]
  },
  {
   "cell_type": "code",
   "execution_count": 4,
   "metadata": {},
   "outputs": [
    {
     "name": "stdout",
     "output_type": "stream",
     "text": [
      "    n | Probability of Shared Birthday\n",
      "----------------------------------------\n",
      "    5 |                         0.0271\n",
      "   10 |                         0.1169\n",
      "   15 |                         0.2529\n",
      "   20 |                         0.4114\n",
      "   25 |                         0.5687\n",
      "   30 |                         0.7063\n",
      "   35 |                         0.8144\n",
      "   40 |                         0.8912\n",
      "   45 |                         0.9410\n",
      "   50 |                         0.9704\n",
      "   55 |                         0.9863\n",
      "   60 |                         0.9941\n",
      "   65 |                         0.9977\n",
      "   70 |                         0.9992\n",
      "   75 |                         0.9997\n",
      "   80 |                         0.9999\n",
      "   85 |                         1.0000\n",
      "   90 |                         1.0000\n",
      "   95 |                         1.0000\n",
      "  100 |                         1.0000\n"
     ]
    }
   ],
   "source": [
    "# Code for  birthday paradox using a formula\n",
    "import numpy as np\n",
    "from scipy.special import factorial, comb\n",
    "\n",
    "def same_birth_formula(n):\n",
    "\n",
    "    \n",
    "# Run experiments for n = 5, 10, ..., 100 and print probabilities.\n",
    "def birthday_paradox_formula():\n",
    "    print(f\"{'n':>5} | {'Probability of Shared Birthday':>30}\")\n",
    "    print(\"-\" * 40)\n",
    "    \n",
    "    for n in range(5, 101, 5):\n",
    "        probability = same_birth_formula(n)\n",
    "        print(f\"{n:>5} | {probability:>30.4f}\")\n",
    "\n",
    "# Perform the computation using birthday paradox formula\n",
    "birthday_paradox_formula()"
   ]
  },
  {
   "cell_type": "markdown",
   "metadata": {},
   "source": [
    "### Problem 4\n",
    "A **polygon** is a piecewise-linear, closed *curve* in the plane; *i.e.*, a curve ending on itself that is formed by a sequence of straight line segments, called **sides** (or **edges**) of the polygon. The curve is also called the **boundary**. A point joining two consecutive sides is call a **vertex** of the polygon. If a polygon is **simple**, the curve does not cross itself. We consider simple polygons here.\n",
    "Furthermore, if a polygon is **convex**, then for any two vertices, the line segment drawn between these two vertices is inside or on the boundary.\n",
    "Develop a class, **`Polygon`**, where each polygon object maintains two instance variables, which we name: `_numOfSides`, and `_listOfVertices`.\n",
    "With a polygon, please provide a python function `isConvex(Polygon)` to check if the given polygon is convex."
   ]
  },
  {
   "cell_type": "code",
   "execution_count": 5,
   "metadata": {},
   "outputs": [
    {
     "name": "stdout",
     "output_type": "stream",
     "text": [
      "The given polygon [[0, 0], [0, 1], [1, 1], [1, 0]] is convex.\n"
     ]
    }
   ],
   "source": [
    "import math\n",
    "\n",
    "# Class of polygon \n",
    "class Polygon():\n",
    "\n",
    "        \n",
    "\n",
    "# Function to check if the polygon is convex polygon or not\n",
    "def isConvex(Polygon):\n",
    "\n",
    "\n",
    "# Driver script\n",
    "if __name__ == '__main__':\n",
    "    #sample input polygon\n",
    "    vertices = [ [ 0, 0 ], [ 0, 1 ], \n",
    "                 [ 1, 1 ], [ 1, 0 ] ]\n",
    "    p=Polygon(vertices)\n",
    "    result=\"is\" if (isConvex(p)) else \"is not\"\n",
    "    print(f\"The given polygon {p._get_listOfVertices()} {result} convex.\")"
   ]
  }
 ],
 "metadata": {
  "celltoolbar": "Slideshow",
  "kernelspec": {
   "display_name": "Python 3 (ipykernel)",
   "language": "python",
   "name": "python3"
  },
  "language_info": {
   "codemirror_mode": {
    "name": "ipython",
    "version": 3
   },
   "file_extension": ".py",
   "mimetype": "text/x-python",
   "name": "python",
   "nbconvert_exporter": "python",
   "pygments_lexer": "ipython3",
   "version": "3.13.5"
  }
 },
 "nbformat": 4,
 "nbformat_minor": 4
}
