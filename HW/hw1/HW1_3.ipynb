{
 "cells": [
  {
   "cell_type": "code",
   "execution_count": null,
   "id": "9fa61952",
   "metadata": {},
   "outputs": [
    {
     "name": "stdout",
     "output_type": "stream",
     "text": [
      "    n | Probability of Shared Birthday\n",
      "----------------------------------------\n",
      "    5 |                         0.0237\n",
      "   10 |                         0.1129\n",
      "   15 |                         0.2590\n",
      "   20 |                         0.4159\n",
      "   25 |                         0.5590\n",
      "   30 |                         0.7089\n",
      "   35 |                         0.8182\n",
      "   40 |                         0.8892\n",
      "   45 |                         0.9445\n",
      "   50 |                         0.9726\n",
      "   55 |                         0.9873\n",
      "   60 |                         0.9947\n",
      "   65 |                         0.9977\n",
      "   70 |                         0.9988\n",
      "   75 |                         0.9996\n",
      "   80 |                         0.9999\n",
      "   85 |                         1.0000\n",
      "   90 |                         1.0000\n",
      "   95 |                         1.0000\n",
      "  100 |                         1.0000\n"
     ]
    }
   ],
   "source": [
    "# Code for birthday paradox with simulation experiments\n",
    "import random\n",
    "\n",
    "# Return True if at least two people out of n share the same birthday.\n",
    "def duplicate_birthdays(n):\n",
    "    days = [random.randint(1, 365) for _ in range(n)] \n",
    "    return len(days) != len(set(days))\n",
    "\n",
    "# Run experiments for n = 5, 10, ..., 100 with 10000 trials respectively and print frequencies(probabilities).\n",
    "def birthday_paradox_experiment(trials=10000):\n",
    "    print(f\"{'n':>5} | {'Probability of Shared Birthday':>30}\")\n",
    "    print(\"-\" * 40)\n",
    "    \n",
    "    for n in range(5, 101, 5):\n",
    "        count_shared = sum(duplicate_birthdays(n) for _ in range(trials))\n",
    "        probability = count_shared / trials\n",
    "        print(f\"{n:>5} | {probability:>30.4f}\")\n",
    "\n",
    "# Run the simulation\n",
    "if __name__ == \"__main__\":\n",
    "    birthday_paradox_experiment()\n"
   ]
  }
 ],
 "metadata": {
  "kernelspec": {
   "display_name": "base",
   "language": "python",
   "name": "python3"
  },
  "language_info": {
   "codemirror_mode": {
    "name": "ipython",
    "version": 3
   },
   "file_extension": ".py",
   "mimetype": "text/x-python",
   "name": "python",
   "nbconvert_exporter": "python",
   "pygments_lexer": "ipython3",
   "version": "3.12.4"
  }
 },
 "nbformat": 4,
 "nbformat_minor": 5
}
