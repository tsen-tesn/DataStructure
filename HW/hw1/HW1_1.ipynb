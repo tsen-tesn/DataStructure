{
 "cells": [
  {
   "cell_type": "markdown",
   "id": "2b3cd681",
   "metadata": {},
   "source": [
    "\n",
    "### Problem 1\n",
    "Write a short Python function `all_tuples()` that, given an unsorted $n$ integer array $A$ and an integer $S$, prints all distinct four-element tuples (quadruplets) from $A$ having sum $S$.\n",
    "\n",
    "For example,\n",
    "\n",
    "**`Input`**:\n",
    "```\n",
    "A = [12, 21, 8, 7, 2, 5, 16, 19, 25, 14, 10]\n",
    "target = 34\n",
    "```\n",
    "**`Output`**:\n",
    "```\n",
    "Below are the quadruplets with sum 34 \n",
    "(2, 5, 8, 19)\n",
    "(2, 8, 10, 14)\n",
    "(5, 7, 8, 14)\n",
    "(5, 7, 10, 12)\n",
    "```"
   ]
  },
  {
   "cell_type": "code",
   "execution_count": 35,
   "id": "2d22171d",
   "metadata": {},
   "outputs": [
    {
     "name": "stdout",
     "output_type": "stream",
     "text": [
      "The input list is [12, 21, 8, 7, 2, 5, 16, 19, 25, 14, 10] and tuples summing to 34 are: [(2, 5, 8, 19), (2, 8, 10, 14), (5, 7, 8, 14), (5, 7, 10, 12)]\n",
      "The input list is [12, 21, 8, 7, 2, 5, 16, 19, 25, 14, 10] and tuples summing to 80 are: []\n",
      "The input list is [2, 7, 4, 0, 9, 5, 1, 3] and tuples summing to 20 are: [(0, 4, 7, 9), (1, 3, 7, 9), (2, 4, 5, 9)]\n"
     ]
    }
   ],
   "source": [
    "# Function to print all tupless present in a list with a given sum\n",
    "# Second Method\n",
    "from itertools import combinations\n",
    "\n",
    "def all_tuples(A, target):\n",
    "    A = sorted(A)\n",
    "    result = []\n",
    "\n",
    "    for nums in combinations(A, 4):\n",
    "        if sum(nums) == target:\n",
    "            result.append(nums)\n",
    "\n",
    "    return result\n",
    "\n",
    "# Driver script\n",
    "if __name__ == '__main__':\n",
    "    A = [12, 21, 8, 7, 2, 5, 16, 19, 25, 14, 10]\n",
    "    S = 34\n",
    "    tuples = all_tuples(A, S)\n",
    "    print(f\"The input list is {A} and tuples summing to {S} are: {tuples}\")\n",
    "\n",
    "    S = 80\n",
    "    tuples=all_tuples(A, S)\n",
    "    print(f\"The input list is {A} and tuples summing to {S} are: {tuples}\")\n",
    "    \n",
    "    A = [2, 7, 4, 0, 9, 5, 1, 3]\n",
    "    S = 20\n",
    "    tuples=all_tuples(A, S)\n",
    "    print(f\"The input list is {A} and tuples summing to {S} are: {tuples}\")"
   ]
  },
  {
   "cell_type": "code",
   "execution_count": null,
   "id": "2fb36853",
   "metadata": {},
   "outputs": [
    {
     "name": "stdout",
     "output_type": "stream",
     "text": [
      "The input list is [12, 21, 8, 7, 2, 5, 16, 19, 25, 14, 10] and tuples summing to 34 are: [(2, 5, 8, 19), (2, 8, 10, 14), (5, 7, 8, 14), (5, 7, 10, 12)]\n",
      "The input list is [12, 21, 8, 7, 2, 5, 16, 19, 25, 14, 10] and tuples summing to 80 are: []\n",
      "The input list is [2, 7, 4, 0, 9, 5, 1, 3] and tuples summing to 20 are: [(0, 4, 7, 9), (1, 3, 7, 9), (2, 4, 5, 9)]\n"
     ]
    }
   ],
   "source": [
    "# Function to print all tupless present in a list with a given sum\n",
    "# First Method\n",
    "import copy\n",
    "\n",
    "def cal_combination(A, target, count, place, register_list):\n",
    "    if count == 4:\n",
    "        if sum(register_list) == S:\n",
    "            result.append(tuple(copy.deepcopy(register_list)))\n",
    "        return\n",
    "    \n",
    "    if place >= len(A):\n",
    "        return\n",
    "    \n",
    "    register_list.append(A[place])\n",
    "    cal_combination(A, target, count + 1, place + 1, register_list)\n",
    "    register_list.pop()\n",
    "\n",
    "    cal_combination(A, target, count, place + 1, register_list)\n",
    "\n",
    "\n",
    "def all_tuples(A, target):\n",
    "    A = sorted(A)\n",
    "    global result\n",
    "    result = []\n",
    "    cal_combination(A , target, 0, 0, [])\n",
    "\n",
    "    return result\n",
    "\n",
    "# Driver script\n",
    "if __name__ == '__main__':\n",
    "    A = [12, 21, 8, 7, 2, 5, 16, 19, 25, 14, 10]\n",
    "    S = 34\n",
    "    tuples = all_tuples(A, S)\n",
    "    print(f\"The input list is {A} and tuples summing to {S} are: {tuples}\")\n",
    "\n",
    "    S = 80\n",
    "    tuples=all_tuples(A, S)\n",
    "    print(f\"The input list is {A} and tuples summing to {S} are: {tuples}\")\n",
    "    \n",
    "    A = [2, 7, 4, 0, 9, 5, 1, 3]\n",
    "    S = 20\n",
    "    tuples=all_tuples(A, S)\n",
    "    print(f\"The input list is {A} and tuples summing to {S} are: {tuples}\")"
   ]
  }
 ],
 "metadata": {
  "kernelspec": {
   "display_name": "Python 3",
   "language": "python",
   "name": "python3"
  },
  "language_info": {
   "codemirror_mode": {
    "name": "ipython",
    "version": 3
   },
   "file_extension": ".py",
   "mimetype": "text/x-python",
   "name": "python",
   "nbconvert_exporter": "python",
   "pygments_lexer": "ipython3",
   "version": "3.12.5"
  }
 },
 "nbformat": 4,
 "nbformat_minor": 5
}
