{
 "cells": [
  {
   "cell_type": "code",
   "execution_count": 2,
   "id": "f17f2a73",
   "metadata": {},
   "outputs": [
    {
     "name": "stdout",
     "output_type": "stream",
     "text": [
      "The given polygon [[0, 0], [0, 1], [1, 1], [1, 0]] is convex.\n",
      "The given polygon [[0, 0], [2, 0], [1, 1], [2, 2], [0, 2]] is not convex.\n"
     ]
    }
   ],
   "source": [
    "import math\n",
    "\n",
    "# Class of polygon \n",
    "class Polygon:\n",
    "    def __init__(self, vertices):\n",
    "        self._listOfVertices = vertices\n",
    "        self._numOfSides = len(vertices)\n",
    "\n",
    "    def _get_listOfVertices(self):\n",
    "        return self._listOfVertices\n",
    "\n",
    "    def _get_numOfSides(self):\n",
    "        return self._numOfSides\n",
    "\n",
    "\n",
    "# Function to check if the polygon is convex polygon or not\n",
    "def isConvex(polygon):\n",
    "    vertices = polygon._get_listOfVertices()\n",
    "    n = polygon._get_numOfSides()\n",
    "\n",
    "    if n < 3: \n",
    "        return False\n",
    "\n",
    "\n",
    "    prev_cross = 0\n",
    "    for i in range(n):\n",
    "        p1 = vertices[i]\n",
    "        p2 = vertices[(i + 1) % n]\n",
    "        p3 = vertices[(i + 2) % n]\n",
    "\n",
    "        v1 = (p2[0] - p1[0], p2[1] - p1[1])\n",
    "        v2 = (p3[0] - p2[0], p3[1] - p2[1])\n",
    "\n",
    "        cross = v1[0] * v2[1] - v1[1] * v2[0]\n",
    "\n",
    "        if cross != 0:\n",
    "            if prev_cross == 0:\n",
    "                prev_cross = cross\n",
    "            elif cross * prev_cross < 0:\n",
    "                return False\n",
    "\n",
    "    return True\n",
    "\n",
    "\n",
    "if __name__ == '__main__':\n",
    "    vertices = [[0, 0], [0, 1], [1, 1], [1, 0]]\n",
    "    p = Polygon(vertices)\n",
    "    result = \"is\" if (isConvex(p)) else \"is not\"\n",
    "    print(f\"The given polygon {p._get_listOfVertices()} {result} convex.\")\n",
    "\n",
    "    concave_vertices = [[0, 0], [2, 0], [1, 1], [2, 2], [0, 2]]\n",
    "    q = Polygon(concave_vertices)\n",
    "    result = \"is\" if (isConvex(q)) else \"is not\"\n",
    "    print(f\"The given polygon {q._get_listOfVertices()} {result} convex.\")\n"
   ]
  }
 ],
 "metadata": {
  "kernelspec": {
   "display_name": "base",
   "language": "python",
   "name": "python3"
  },
  "language_info": {
   "codemirror_mode": {
    "name": "ipython",
    "version": 3
   },
   "file_extension": ".py",
   "mimetype": "text/x-python",
   "name": "python",
   "nbconvert_exporter": "python",
   "pygments_lexer": "ipython3",
   "version": "3.12.4"
  }
 },
 "nbformat": 4,
 "nbformat_minor": 5
}
