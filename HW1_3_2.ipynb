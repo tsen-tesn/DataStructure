{
 "cells": [
  {
   "cell_type": "code",
   "execution_count": 1,
   "id": "fcc5ed36",
   "metadata": {},
   "outputs": [
    {
     "name": "stdout",
     "output_type": "stream",
     "text": [
      "    n | Probability of Shared Birthday\n",
      "----------------------------------------\n",
      "    5 |                         0.0271\n",
      "   10 |                         0.1169\n",
      "   15 |                         0.2529\n",
      "   20 |                         0.4114\n",
      "   25 |                         0.5687\n",
      "   30 |                         0.7063\n",
      "   35 |                         0.8144\n",
      "   40 |                         0.8912\n",
      "   45 |                         0.9410\n",
      "   50 |                         0.9704\n",
      "   55 |                         0.9863\n",
      "   60 |                         0.9941\n",
      "   65 |                         0.9977\n",
      "   70 |                         0.9992\n",
      "   75 |                         0.9997\n",
      "   80 |                         0.9999\n",
      "   85 |                         1.0000\n",
      "   90 |                         1.0000\n",
      "   95 |                         1.0000\n",
      "  100 |                         1.0000\n"
     ]
    }
   ],
   "source": [
    "# Code for birthday paradox using a formula\n",
    "import math\n",
    "\n",
    "def same_birth_formula(n):\n",
    "    days = 365\n",
    "    if n > days:\n",
    "        return 1.0  # 超過 365 人一定有重複\n",
    "    prob_no_shared = 1.0\n",
    "    for i in range(n):\n",
    "        prob_no_shared *= (days - i) / days\n",
    "    return 1 - prob_no_shared\n",
    "\n",
    "# Run experiments for n = 5, 10, ..., 100 and print probabilities.\n",
    "def birthday_paradox_formula():\n",
    "    print(f\"{'n':>5} | {'Probability of Shared Birthday':>30}\")\n",
    "    print(\"-\" * 40)\n",
    "    \n",
    "    for n in range(5, 101, 5):\n",
    "        probability = same_birth_formula(n)\n",
    "        print(f\"{n:>5} | {probability:>30.4f}\")\n",
    "\n",
    "# Perform the computation using birthday paradox formula\n",
    "if __name__ == \"__main__\":\n",
    "    birthday_paradox_formula()\n"
   ]
  }
 ],
 "metadata": {
  "kernelspec": {
   "display_name": "base",
   "language": "python",
   "name": "python3"
  },
  "language_info": {
   "codemirror_mode": {
    "name": "ipython",
    "version": 3
   },
   "file_extension": ".py",
   "mimetype": "text/x-python",
   "name": "python",
   "nbconvert_exporter": "python",
   "pygments_lexer": "ipython3",
   "version": "3.12.4"
  }
 },
 "nbformat": 4,
 "nbformat_minor": 5
}
